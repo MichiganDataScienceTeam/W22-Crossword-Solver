{
 "cells": [
  {
   "cell_type": "code",
   "execution_count": 114,
   "id": "7397d4db",
   "metadata": {},
   "outputs": [
    {
     "name": "stdout",
     "output_type": "stream",
     "text": [
      "{'A': {'D', 'B'}, 'B': {'A', 'C', 'D'}, 'C': {'E', 'D', 'B'}, 'D': {'A', 'F', 'E', 'B', 'C'}, 'E': {'F', 'C', 'D'}, 'F': {'E', 'D'}, 'G': set()}\n"
     ]
    }
   ],
   "source": [
    "%run color.py"
   ]
  },
  {
   "cell_type": "code",
   "execution_count": 115,
   "id": "e840e601",
   "metadata": {},
   "outputs": [],
   "source": [
    "adj_list = {'A': {'D', 'B'}, 'B': {'A', 'C', 'D'}, 'C': {'E', 'D', 'B'}, 'D': {'A', 'F', 'E', 'B', 'C'}, 'E': {'F', 'C', 'D'}, 'F': {'E', 'D'}, 'G': set()}"
   ]
  },
  {
   "cell_type": "code",
   "execution_count": 116,
   "id": "106f55ca",
   "metadata": {},
   "outputs": [],
   "source": [
    "color_list = {}\n",
    "for key in adj_list.keys():\n",
    "    color_list[key] = 0"
   ]
  },
  {
   "cell_type": "code",
   "execution_count": 117,
   "id": "612fa2d2",
   "metadata": {},
   "outputs": [
    {
     "data": {
      "text/plain": [
       "{'A': 0, 'B': 0, 'C': 0, 'D': 0, 'E': 0, 'F': 0, 'G': 0}"
      ]
     },
     "execution_count": 117,
     "metadata": {},
     "output_type": "execute_result"
    }
   ],
   "source": [
    "color_list"
   ]
  },
  {
   "cell_type": "markdown",
   "id": "02ebd743",
   "metadata": {},
   "source": [
    "### Define BFS algorithm"
   ]
  },
  {
   "cell_type": "code",
   "execution_count": 124,
   "id": "750114db",
   "metadata": {},
   "outputs": [],
   "source": [
    "def BFS(adj_list, start_node):\n",
    "    # Iterate through sequential levels of separation from the starting node\n",
    "    frontier = [start_node]\n",
    "    marked = set()\n",
    "    marked.add(start_node)\n",
    "\n",
    "    while frontier:\n",
    "        n = []\n",
    "        for f in frontier:\n",
    "            neighbor_vals = []\n",
    "            for g in adj_list[f]:\n",
    "                if g not in marked:\n",
    "                    marked.add(g)\n",
    "                    n.append(g)\n",
    "                neighbor_vals.append(color_list[g])\n",
    "            \n",
    "            to_assign = 1\n",
    "            while to_assign in neighbor_vals:\n",
    "                to_assign += 1\n",
    "                if to_assign > 3:\n",
    "                    return ValueError(\"too large\")\n",
    "            color_list[f] = to_assign\n",
    "        frontier = n    "
   ]
  },
  {
   "cell_type": "markdown",
   "id": "c9f954b1",
   "metadata": {},
   "source": [
    "### Iterate over all connected components to make sure nothing is unassigned"
   ]
  },
  {
   "cell_type": "code",
   "execution_count": 125,
   "id": "f1ef352a",
   "metadata": {},
   "outputs": [],
   "source": [
    "while 0 in color_list.values():\n",
    "    start = [k for k, v in color_list.items() if v == 0][0]\n",
    "    BFS(adj_list, start)"
   ]
  },
  {
   "cell_type": "code",
   "execution_count": 126,
   "id": "b1e81eaf",
   "metadata": {},
   "outputs": [
    {
     "data": {
      "text/plain": [
       "{'A': 1, 'B': 3, 'C': 1, 'D': 2, 'E': 3, 'F': 1, 'G': 1}"
      ]
     },
     "execution_count": 126,
     "metadata": {},
     "output_type": "execute_result"
    }
   ],
   "source": [
    "color_list"
   ]
  },
  {
   "cell_type": "code",
   "execution_count": null,
   "id": "23dc7cd4",
   "metadata": {},
   "outputs": [],
   "source": []
  }
 ],
 "metadata": {
  "kernelspec": {
   "display_name": "Python 3 (ipykernel)",
   "language": "python",
   "name": "python3"
  },
  "language_info": {
   "codemirror_mode": {
    "name": "ipython",
    "version": 3
   },
   "file_extension": ".py",
   "mimetype": "text/x-python",
   "name": "python",
   "nbconvert_exporter": "python",
   "pygments_lexer": "ipython3",
   "version": "3.9.7"
  }
 },
 "nbformat": 4,
 "nbformat_minor": 5
}
