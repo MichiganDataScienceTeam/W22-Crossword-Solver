{
 "cells": [
  {
   "cell_type": "code",
   "execution_count": 2,
   "id": "6f022234",
   "metadata": {},
   "outputs": [],
   "source": [
    "# (!!!) make sure clues.tsv is in the clue-exploration/ directory\n",
    "import pandas as pd\n",
    "import numpy  as np\n",
    "import matplotlib.pyplot as plt\n",
    "import seaborn as sns\n",
    "sns.set()"
   ]
  },
  {
   "cell_type": "code",
   "execution_count": 3,
   "id": "346ef1be",
   "metadata": {},
   "outputs": [],
   "source": [
    "df = pd.read_csv(\"./clues.tsv\", delimiter=\"\\t\")\n",
    "df = df.dropna()"
   ]
  }
 ],
 "metadata": {
  "kernelspec": {
   "display_name": "Python 3 (ipykernel)",
   "language": "python",
   "name": "python3"
  },
  "language_info": {
   "codemirror_mode": {
    "name": "ipython",
    "version": 3
   },
   "file_extension": ".py",
   "mimetype": "text/x-python",
   "name": "python",
   "nbconvert_exporter": "python",
   "pygments_lexer": "ipython3",
   "version": "3.9.6"
  }
 },
 "nbformat": 4,
 "nbformat_minor": 5
}
