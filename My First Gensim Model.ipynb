{
 "cells": [
  {
   "cell_type": "code",
   "execution_count": 1,
   "metadata": {},
   "outputs": [],
   "source": [
    "import gensim\n",
    "import pandas as pd\n",
    "\n",
    "CA = True\n",
    "ACA = False\n"
   ]
  },
  {
   "cell_type": "code",
   "execution_count": 2,
   "metadata": {},
   "outputs": [],
   "source": [
    "df = pd.read_csv(\"train.csv\")"
   ]
  },
  {
   "cell_type": "code",
   "execution_count": 3,
   "metadata": {},
   "outputs": [
    {
     "data": {
      "text/html": [
       "<div>\n",
       "<style scoped>\n",
       "    .dataframe tbody tr th:only-of-type {\n",
       "        vertical-align: middle;\n",
       "    }\n",
       "\n",
       "    .dataframe tbody tr th {\n",
       "        vertical-align: top;\n",
       "    }\n",
       "\n",
       "    .dataframe thead th {\n",
       "        text-align: right;\n",
       "    }\n",
       "</style>\n",
       "<table border=\"1\" class=\"dataframe\">\n",
       "  <thead>\n",
       "    <tr style=\"text-align: right;\">\n",
       "      <th></th>\n",
       "      <th>index</th>\n",
       "      <th>pubid</th>\n",
       "      <th>year</th>\n",
       "      <th>answer</th>\n",
       "      <th>clue</th>\n",
       "      <th>length</th>\n",
       "    </tr>\n",
       "  </thead>\n",
       "  <tbody>\n",
       "    <tr>\n",
       "      <th>0</th>\n",
       "      <td>0</td>\n",
       "      <td>cs</td>\n",
       "      <td>2012.0</td>\n",
       "      <td>LEA</td>\n",
       "      <td>Grazing ground</td>\n",
       "      <td>3.0</td>\n",
       "    </tr>\n",
       "    <tr>\n",
       "      <th>1</th>\n",
       "      <td>1</td>\n",
       "      <td>nyt</td>\n",
       "      <td>2012.0</td>\n",
       "      <td>CDS</td>\n",
       "      <td>They're shiny even after being burned</td>\n",
       "      <td>3.0</td>\n",
       "    </tr>\n",
       "    <tr>\n",
       "      <th>2</th>\n",
       "      <td>2</td>\n",
       "      <td>usa</td>\n",
       "      <td>1995.0</td>\n",
       "      <td>LIMA</td>\n",
       "      <td>Lofty SA capital</td>\n",
       "      <td>4.0</td>\n",
       "    </tr>\n",
       "    <tr>\n",
       "      <th>3</th>\n",
       "      <td>3</td>\n",
       "      <td>lat</td>\n",
       "      <td>1999.0</td>\n",
       "      <td>SALSA</td>\n",
       "      <td>It beats ketchup</td>\n",
       "      <td>5.0</td>\n",
       "    </tr>\n",
       "    <tr>\n",
       "      <th>4</th>\n",
       "      <td>4</td>\n",
       "      <td>nyt</td>\n",
       "      <td>2004.0</td>\n",
       "      <td>ANTEATER</td>\n",
       "      <td>Animal with no teeth</td>\n",
       "      <td>8.0</td>\n",
       "    </tr>\n",
       "  </tbody>\n",
       "</table>\n",
       "</div>"
      ],
      "text/plain": [
       "   index pubid    year    answer                                   clue  \\\n",
       "0      0    cs  2012.0       LEA                         Grazing ground   \n",
       "1      1   nyt  2012.0       CDS  They're shiny even after being burned   \n",
       "2      2   usa  1995.0      LIMA                       Lofty SA capital   \n",
       "3      3   lat  1999.0     SALSA                       It beats ketchup   \n",
       "4      4   nyt  2004.0  ANTEATER                   Animal with no teeth   \n",
       "\n",
       "   length  \n",
       "0     3.0  \n",
       "1     3.0  \n",
       "2     4.0  \n",
       "3     5.0  \n",
       "4     8.0  "
      ]
     },
     "execution_count": 3,
     "metadata": {},
     "output_type": "execute_result"
    }
   ],
   "source": [
    "df.head()"
   ]
  },
  {
   "cell_type": "code",
   "execution_count": 4,
   "metadata": {},
   "outputs": [],
   "source": [
    "df[\"clue_answer\"] = df[\"clue\"] + \" \" + df[\"answer\"]\n",
    "df[\"answer_clue_answer\"] = df[\"answer\"] + df[\"clue\"] + \" \" + df[\"answer\"]"
   ]
  },
  {
   "cell_type": "code",
   "execution_count": 5,
   "metadata": {},
   "outputs": [
    {
     "data": {
      "text/html": [
       "<div>\n",
       "<style scoped>\n",
       "    .dataframe tbody tr th:only-of-type {\n",
       "        vertical-align: middle;\n",
       "    }\n",
       "\n",
       "    .dataframe tbody tr th {\n",
       "        vertical-align: top;\n",
       "    }\n",
       "\n",
       "    .dataframe thead th {\n",
       "        text-align: right;\n",
       "    }\n",
       "</style>\n",
       "<table border=\"1\" class=\"dataframe\">\n",
       "  <thead>\n",
       "    <tr style=\"text-align: right;\">\n",
       "      <th></th>\n",
       "      <th>index</th>\n",
       "      <th>pubid</th>\n",
       "      <th>year</th>\n",
       "      <th>answer</th>\n",
       "      <th>clue</th>\n",
       "      <th>length</th>\n",
       "      <th>clue_answer</th>\n",
       "    </tr>\n",
       "  </thead>\n",
       "  <tbody>\n",
       "    <tr>\n",
       "      <th>0</th>\n",
       "      <td>0</td>\n",
       "      <td>cs</td>\n",
       "      <td>2012.0</td>\n",
       "      <td>LEA</td>\n",
       "      <td>Grazing ground</td>\n",
       "      <td>3.0</td>\n",
       "      <td>Grazing ground LEA</td>\n",
       "    </tr>\n",
       "    <tr>\n",
       "      <th>1</th>\n",
       "      <td>1</td>\n",
       "      <td>nyt</td>\n",
       "      <td>2012.0</td>\n",
       "      <td>CDS</td>\n",
       "      <td>They're shiny even after being burned</td>\n",
       "      <td>3.0</td>\n",
       "      <td>They're shiny even after being burned CDS</td>\n",
       "    </tr>\n",
       "    <tr>\n",
       "      <th>2</th>\n",
       "      <td>2</td>\n",
       "      <td>usa</td>\n",
       "      <td>1995.0</td>\n",
       "      <td>LIMA</td>\n",
       "      <td>Lofty SA capital</td>\n",
       "      <td>4.0</td>\n",
       "      <td>Lofty SA capital LIMA</td>\n",
       "    </tr>\n",
       "    <tr>\n",
       "      <th>3</th>\n",
       "      <td>3</td>\n",
       "      <td>lat</td>\n",
       "      <td>1999.0</td>\n",
       "      <td>SALSA</td>\n",
       "      <td>It beats ketchup</td>\n",
       "      <td>5.0</td>\n",
       "      <td>It beats ketchup SALSA</td>\n",
       "    </tr>\n",
       "    <tr>\n",
       "      <th>4</th>\n",
       "      <td>4</td>\n",
       "      <td>nyt</td>\n",
       "      <td>2004.0</td>\n",
       "      <td>ANTEATER</td>\n",
       "      <td>Animal with no teeth</td>\n",
       "      <td>8.0</td>\n",
       "      <td>Animal with no teeth ANTEATER</td>\n",
       "    </tr>\n",
       "  </tbody>\n",
       "</table>\n",
       "</div>"
      ],
      "text/plain": [
       "   index pubid    year    answer                                   clue  \\\n",
       "0      0    cs  2012.0       LEA                         Grazing ground   \n",
       "1      1   nyt  2012.0       CDS  They're shiny even after being burned   \n",
       "2      2   usa  1995.0      LIMA                       Lofty SA capital   \n",
       "3      3   lat  1999.0     SALSA                       It beats ketchup   \n",
       "4      4   nyt  2004.0  ANTEATER                   Animal with no teeth   \n",
       "\n",
       "   length                                clue_answer  \n",
       "0     3.0                         Grazing ground LEA  \n",
       "1     3.0  They're shiny even after being burned CDS  \n",
       "2     4.0                      Lofty SA capital LIMA  \n",
       "3     5.0                     It beats ketchup SALSA  \n",
       "4     8.0              Animal with no teeth ANTEATER  "
      ]
     },
     "execution_count": 5,
     "metadata": {},
     "output_type": "execute_result"
    }
   ],
   "source": [
    "df.head()"
   ]
  },
  {
   "cell_type": "code",
   "execution_count": 6,
   "metadata": {},
   "outputs": [],
   "source": [
    "df = df.dropna()"
   ]
  },
  {
   "cell_type": "code",
   "execution_count": 7,
   "metadata": {},
   "outputs": [],
   "source": [
    "if CA:\n",
    "    text = df.clue_answer.apply(gensim.utils.simple_preprocess)\n",
    "if ACA:\n",
    "    text = df.clue_answer_clue.apply(gensim.utils.simple_preprocess)"
   ]
  },
  {
   "cell_type": "code",
   "execution_count": 8,
   "metadata": {},
   "outputs": [],
   "source": [
    "model = gensim.models.Word2Vec(\n",
    "    window = 4,\n",
    "    min_count = 2,\n",
    "    workers = 4,\n",
    "    epochs = 10\n",
    ")"
   ]
  },
  {
   "cell_type": "code",
   "execution_count": 9,
   "metadata": {},
   "outputs": [],
   "source": [
    "model.build_vocab(text, progress_per = 1000)"
   ]
  },
  {
   "cell_type": "code",
   "execution_count": 10,
   "metadata": {},
   "outputs": [
    {
     "data": {
      "text/plain": [
       "10"
      ]
     },
     "execution_count": 10,
     "metadata": {},
     "output_type": "execute_result"
    }
   ],
   "source": [
    "model.epochs"
   ]
  },
  {
   "cell_type": "code",
   "execution_count": 11,
   "metadata": {},
   "outputs": [
    {
     "data": {
      "text/plain": [
       "5130159"
      ]
     },
     "execution_count": 11,
     "metadata": {},
     "output_type": "execute_result"
    }
   ],
   "source": [
    "model.corpus_count"
   ]
  },
  {
   "cell_type": "code",
   "execution_count": 12,
   "metadata": {},
   "outputs": [
    {
     "data": {
      "text/plain": [
       "(178471952, 190429820)"
      ]
     },
     "execution_count": 12,
     "metadata": {},
     "output_type": "execute_result"
    }
   ],
   "source": [
    "model.train(text, total_examples = model.corpus_count, epochs = model.epochs)"
   ]
  },
  {
   "cell_type": "code",
   "execution_count": 13,
   "metadata": {},
   "outputs": [],
   "source": [
    "model.save(\"10epoch4window.model\")"
   ]
  },
  {
   "cell_type": "code",
   "execution_count": null,
   "metadata": {},
   "outputs": [],
   "source": []
  }
 ],
 "metadata": {
  "kernelspec": {
   "display_name": "Python 3",
   "language": "python",
   "name": "python3"
  },
  "language_info": {
   "codemirror_mode": {
    "name": "ipython",
    "version": 3
   },
   "file_extension": ".py",
   "mimetype": "text/x-python",
   "name": "python",
   "nbconvert_exporter": "python",
   "pygments_lexer": "ipython3",
   "version": "3.8.3"
  }
 },
 "nbformat": 4,
 "nbformat_minor": 4
}
