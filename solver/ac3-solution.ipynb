{
 "cells": [
  {
   "cell_type": "code",
   "execution_count": 65,
   "id": "3d9b04d5",
   "metadata": {},
   "outputs": [],
   "source": [
    "import puz\n",
    "import copy"
   ]
  },
  {
   "cell_type": "code",
   "execution_count": 66,
   "id": "c62f50fa",
   "metadata": {},
   "outputs": [],
   "source": [
    "%run fillblanks.py './minis/010222.puz'"
   ]
  },
  {
   "cell_type": "code",
   "execution_count": 67,
   "id": "ecc64405",
   "metadata": {},
   "outputs": [],
   "source": [
    "unary = {0: 3, 1: 5, 2: 5, 3: 5, 4: 3, 5: 4, 6: 4, 7: 5, 8: 4, 9: 4}"
   ]
  },
  {
   "cell_type": "code",
   "execution_count": 68,
   "id": "f21d2331",
   "metadata": {},
   "outputs": [],
   "source": [
    "binary = {0: {5: (0, 0), 6: (1, 0), 7: (2, 0)}, 1: {5: (0, 1), 6: (1, 1), 7: (2, 1), 8: (3, 0), 9: (4, 0)}, 2: {5: (0, 2), 6: (1, 2), 7: (2, 2), 8: (3, 1), 9: (4, 1)}, 3: {5: (0, 3), 6: (1, 3), 7: (2, 3), 8: (3, 2), 9: (4, 2)}, 4: {7: (0, 4), 8: (1, 3), 9: (2, 3)}, 5: {0: (0, 0), 1: (1, 0), 2: (2, 0), 3: (3, 0)}, 6: {0: (0, 1), 1: (1, 1), 2: (2, 1), 3: (3, 1)}, 7: {0: (0, 2), 1: (1, 2), 2: (2, 2), 3: (3, 2), 4: (4, 0)}, 8: {1: (0, 3), 2: (1, 3), 3: (2, 3), 4: (3, 1)}, 9: {1: (0, 4), 2: (1, 4), 3: (2, 4), 4: (3, 2)}}"
   ]
  },
  {
   "cell_type": "code",
   "execution_count": 69,
   "id": "fc300006",
   "metadata": {},
   "outputs": [],
   "source": [
    "words = {4: ['BOSS', 'READ', 'BOWL', 'REED', 'BREW', 'ROSE', 'LANE', 'ODDS', 'GENZ', 'ATOZ', 'BITE', 'CRUX', 'QUOI', 'ISNT', 'CLUB', 'ONTO', 'CHAT', 'REDO'], 5: ['OTTER', 'WHALE', 'LETME', 'OTHER', 'STATE', 'SELMA', 'JOUST', 'BROAD', 'ROUND', 'ESSES', 'SALAD', 'AGITA', 'GROOM', 'SAGGY', 'AGREE', 'LIONS', 'CATCH', 'IRAQI', 'TUTUS', 'EXCON', 'TUSKS', 'ONTOP', 'ADORE', 'SEVEN', 'TREAT', 'TOAST', 'UNDER', 'STOVE', 'KOREA', 'SPENT', 'SQUID', 'PURSE', 'LOGAN', 'ATEIN', 'TEDDY', 'SPLAT', 'QUOTE', 'URGED', 'ISAID', 'DENNY', 'SUNUP', 'ONION', 'SLOMO', 'PREEN', 'HATER', 'AZURE', 'TIRED', 'LAZIO', 'UTURN', 'BERET', 'SAYSO', 'WIPER', 'SAGES'], 3: ['WET', 'JLO', 'YES', 'DAM', 'BCC', 'HIT', 'HIT', 'GAP', 'AGE', 'AND', 'ERE', 'ESE', 'LET', 'EDT', 'RYE'], 7: ['ALGEBRA', 'GOGREEN', 'EMITTED', 'HUGGING', 'INERTIA', 'TUBETOP', 'WISEASS', 'ICEDTEA', 'PANTLEG', 'RUGRATS', 'SENEGAL', 'ATLEAST'], 6: ['ICARUS', 'SEESTO']}"
   ]
  },
  {
   "cell_type": "code",
   "execution_count": 81,
   "id": "f5da5a82",
   "metadata": {},
   "outputs": [],
   "source": [
    "domains = copy.deepcopy(dict({key: set(words[val]) for key, val in unary.items()}))"
   ]
  },
  {
   "cell_type": "code",
   "execution_count": 82,
   "id": "a82cb28d",
   "metadata": {},
   "outputs": [],
   "source": [
    "def ac3(domains, binary):\n",
    "    def arc_reduce(x, y):\n",
    "        change = False\n",
    "        for vx in D[x].copy():\n",
    "            vys = None\n",
    "            for vy in D[y]:\n",
    "                x_ind, y_ind = binary[x][y]\n",
    "                if vx[x_ind] == vy[y_ind]:\n",
    "                    vys = vy\n",
    "            if not vys:\n",
    "                D[x].remove(vx)\n",
    "                change = True\n",
    "                \n",
    "        return change\n",
    "\n",
    "    D = copy.deepcopy(domains)\n",
    "    worklist = [(x, y) for x in binary for y in binary[x]]\n",
    "    \n",
    "    while worklist:\n",
    "        x, y = worklist.pop() # x and y are word locations to be filled\n",
    "        change = arc_reduce(x, y)\n",
    "        if change:\n",
    "            if not D[x]:\n",
    "                return D\n",
    "            else:\n",
    "                worklist += [(x, z) for x in binary for z in binary[x] if z != y]\n",
    "    return D"
   ]
  },
  {
   "cell_type": "code",
   "execution_count": 83,
   "id": "53e2b930",
   "metadata": {},
   "outputs": [],
   "source": [
    "D = ac3(domains, binary)"
   ]
  },
  {
   "cell_type": "code",
   "execution_count": 84,
   "id": "3df6ca1d",
   "metadata": {},
   "outputs": [
    {
     "data": {
      "text/plain": [
       "{0: {'BCC'},\n",
       " 1: {'IRAQI'},\n",
       " 2: {'TUTUS'},\n",
       " 3: {'EXCON'},\n",
       " 4: {'HIT'},\n",
       " 5: {'BITE'},\n",
       " 6: {'CRUX'},\n",
       " 7: {'CATCH'},\n",
       " 8: {'QUOI'},\n",
       " 9: {'ISNT'}}"
      ]
     },
     "execution_count": 84,
     "metadata": {},
     "output_type": "execute_result"
    }
   ],
   "source": [
    "D"
   ]
  }
 ],
 "metadata": {
  "kernelspec": {
   "display_name": "Python 3 (ipykernel)",
   "language": "python",
   "name": "python3"
  },
  "language_info": {
   "codemirror_mode": {
    "name": "ipython",
    "version": 3
   },
   "file_extension": ".py",
   "mimetype": "text/x-python",
   "name": "python",
   "nbconvert_exporter": "python",
   "pygments_lexer": "ipython3",
   "version": "3.9.7"
  }
 },
 "nbformat": 4,
 "nbformat_minor": 5
}
