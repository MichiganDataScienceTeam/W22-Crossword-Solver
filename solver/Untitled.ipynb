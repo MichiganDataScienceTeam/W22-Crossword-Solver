{
 "cells": [
  {
   "cell_type": "code",
   "execution_count": 18,
   "id": "046b854d",
   "metadata": {},
   "outputs": [],
   "source": [
    "import puz\n",
    "import numpy as np"
   ]
  },
  {
   "cell_type": "code",
   "execution_count": 71,
   "id": "45601dc0",
   "metadata": {},
   "outputs": [
    {
     "name": "stdout",
     "output_type": "stream",
     "text": [
      "----.----.-----.----.----\n",
      "{0: 3, 1: 5, 2: 5, 3: 5, 4: 3, 5: 4, 6: 4, 7: 5, 8: 4, 9: 4}\n",
      "defaultdict(<class 'dict'>, {0: {5: (0, 0), 6: (1, 0), 7: (2, 0)}, 1: {5: (0, 1), 6: (1, 1), 7: (2, 1), 8: (3, 0), 9: (4, 0)}, 2: {5: (0, 2), 6: (1, 2), 7: (2, 2), 8: (3, 1), 9: (4, 1)}, 3: {5: (0, 3), 6: (1, 3), 7: (2, 3), 8: (3, 2), 9: (4, 2)}, 4: {7: (0, 4), 8: (1, 3), 9: (2, 3)}, 5: {0: (0, 0), 1: (1, 0), 2: (2, 0), 3: (3, 0)}, 6: {0: (0, 1), 1: (1, 1), 2: (2, 1), 3: (3, 1)}, 7: {0: (0, 2), 1: (1, 2), 2: (2, 2), 3: (3, 2), 4: (4, 0)}, 8: {1: (0, 3), 2: (1, 3), 3: (2, 3), 4: (3, 1)}, 9: {1: (0, 4), 2: (1, 4), 3: (2, 4), 4: (3, 2)}})\n",
      "defaultdict(<class 'list'>, {4: ['BOSS', 'READ', 'BOWL', 'REED', 'BREW', 'ROSE', 'LANE', 'ODDS', 'GENZ', 'ATOZ', 'BITE', 'CRUX', 'QUOI', 'ISNT', 'CLUB', 'ONTO', 'CHAT', 'REDO'], 5: ['OTTER', 'WHALE', 'LETME', 'OTHER', 'STATE', 'SELMA', 'JOUST', 'BROAD', 'ROUND', 'ESSES', 'SALAD', 'AGITA', 'GROOM', 'SAGGY', 'AGREE', 'LIONS', 'CATCH', 'IRAQI', 'TUTUS', 'EXCON', 'TUSKS', 'ONTOP', 'ADORE', 'SEVEN', 'TREAT', 'TOAST', 'UNDER', 'STOVE', 'KOREA', 'SPENT', 'SQUID', 'PURSE', 'LOGAN', 'ATEIN', 'TEDDY', 'SPLAT', 'QUOTE', 'URGED', 'ISAID', 'DENNY', 'SUNUP', 'ONION', 'SLOMO', 'PREEN', 'HATER', 'AZURE', 'TIRED', 'LAZIO', 'UTURN', 'BERET', 'SAYSO', 'WIPER', 'SAGES'], 3: ['WET', 'JLO', 'YES', 'DAM', 'BCC', 'HIT', 'HIT', 'GAP', 'AGE', 'AND', 'ERE', 'ESE', 'LET', 'EDT', 'RYE'], 7: ['ALGEBRA', 'GOGREEN', 'EMITTED', 'HUGGING', 'INERTIA', 'TUBETOP', 'WISEASS', 'ICEDTEA', 'PANTLEG', 'RUGRATS', 'SENEGAL', 'ATLEAST'], 6: ['ICARUS', 'SEESTO']})\n"
     ]
    }
   ],
   "source": [
    "%run fillblanks.py './minis/010222.puz'"
   ]
  },
  {
   "cell_type": "code",
   "execution_count": 12,
   "id": "bcfb5a7d",
   "metadata": {},
   "outputs": [],
   "source": [
    "unary = {0: 3, 1: 5, 2: 5, 3: 5, 4: 3, 5: 4, 6: 4, 7: 5, 8: 4, 9: 4}"
   ]
  },
  {
   "cell_type": "code",
   "execution_count": 13,
   "id": "f17479df",
   "metadata": {},
   "outputs": [],
   "source": [
    "binary = {0: {5: (0, 0), 6: (1, 0), 7: (2, 0)}, 1: {5: (0, 1), 6: (1, 1), 7: (2, 1), 8: (3, 0), 9: (4, 0)}, 2: {5: (0, 2), 6: (1, 2), 7: (2, 2), 8: (3, 1), 9: (4, 1)}, 3: {5: (0, 3), 6: (1, 3), 7: (2, 3), 8: (3, 2), 9: (4, 2)}, 4: {7: (0, 4), 8: (1, 3), 9: (2, 3)}, 5: {0: (0, 0), 1: (1, 0), 2: (2, 0), 3: (3, 0)}, 6: {0: (0, 1), 1: (1, 1), 2: (2, 1), 3: (3, 1)}, 7: {0: (0, 2), 1: (1, 2), 2: (2, 2), 3: (3, 2), 4: (4, 0)}, 8: {1: (0, 3), 2: (1, 3), 3: (2, 3), 4: (3, 1)}, 9: {1: (0, 4), 2: (1, 4), 3: (2, 4), 4: (3, 2)}}"
   ]
  },
  {
   "cell_type": "code",
   "execution_count": 28,
   "id": "768bd04f",
   "metadata": {},
   "outputs": [],
   "source": [
    "words = {4: ['BOSS', 'READ', 'BOWL', 'REED', 'BREW', 'ROSE', 'LANE', 'ODDS', 'GENZ', 'ATOZ', 'BITE', 'CRUX', 'QUOI', 'ISNT', 'CLUB', 'ONTO', 'CHAT', 'REDO'], \n",
    "         5: ['OTTER', 'WHALE', 'LETME', 'OTHER', 'STATE', 'SELMA', 'JOUST', 'BROAD', 'ROUND', 'ESSES', 'SALAD', 'AGITA', 'GROOM', 'SAGGY', 'AGREE', 'LIONS', 'CATCH', 'IRAQI', 'TUTUS', 'EXCON', 'TUSKS', 'ONTOP', 'ADORE', 'SEVEN', 'TREAT', 'TOAST', 'UNDER', 'STOVE', 'KOREA', 'SPENT', 'SQUID', 'PURSE', 'LOGAN', 'ATEIN', 'TEDDY', 'SPLAT', 'QUOTE', 'URGED', 'ISAID', 'DENNY', 'SUNUP', 'ONION', 'SLOMO', 'PREEN', 'HATER', 'AZURE', 'TIRED', 'LAZIO', 'UTURN', 'BERET', 'SAYSO', 'WIPER', 'SAGES'], \n",
    "         3: ['WET', 'JLO', 'YES', 'DAM', 'BCC', 'HIT', 'HIT', 'GAP', 'AGE', 'AND', 'ERE', 'ESE', 'LET', 'EDT', 'RYE'], \n",
    "         7: ['ALGEBRA', 'GOGREEN', 'EMITTED', 'HUGGING', 'INERTIA', 'TUBETOP', 'WISEASS', 'ICEDTEA', 'PANTLEG', 'RUGRATS', 'SENEGAL', 'ATLEAST'], \n",
    "         6: ['ICARUS', 'SEESTO']}"
   ]
  },
  {
   "cell_type": "code",
   "execution_count": 73,
   "id": "29a84f02",
   "metadata": {},
   "outputs": [],
   "source": [
    "fill = '----.----.-----.----.----'"
   ]
  },
  {
   "cell_type": "code",
   "execution_count": 65,
   "id": "d54445ca",
   "metadata": {},
   "outputs": [],
   "source": [
    "sorted_words = {k: sorted(w) for k, w in words.items()}"
   ]
  },
  {
   "cell_type": "code",
   "execution_count": 74,
   "id": "16078da3",
   "metadata": {},
   "outputs": [],
   "source": [
    "solution = np.full((5, 5), None)"
   ]
  },
  {
   "cell_type": "code",
   "execution_count": 75,
   "id": "9dc1c3b9",
   "metadata": {},
   "outputs": [
    {
     "data": {
      "text/plain": [
       "array([[None, None, None, None, None],\n",
       "       [None, None, None, None, None],\n",
       "       [None, None, None, None, None],\n",
       "       [None, None, None, None, None],\n",
       "       [None, None, None, None, None]], dtype=object)"
      ]
     },
     "execution_count": 75,
     "metadata": {},
     "output_type": "execute_result"
    }
   ],
   "source": [
    "solution"
   ]
  },
  {
   "cell_type": "code",
   "execution_count": 93,
   "id": "c33a324e",
   "metadata": {},
   "outputs": [],
   "source": [
    "for i, ch in enumerate(fill):\n",
    "    if ch=='.':\n",
    "        r, c = i//5, i%5\n",
    "        solution[r, c] = np.nan"
   ]
  },
  {
   "cell_type": "code",
   "execution_count": 94,
   "id": "8e5d974b",
   "metadata": {},
   "outputs": [
    {
     "data": {
      "text/plain": [
       "array([[None, None, None, None, nan],\n",
       "       [None, None, None, None, nan],\n",
       "       [None, None, None, None, None],\n",
       "       [nan, None, None, None, None],\n",
       "       [nan, None, None, None, None]], dtype=object)"
      ]
     },
     "execution_count": 94,
     "metadata": {},
     "output_type": "execute_result"
    }
   ],
   "source": [
    "solution"
   ]
  },
  {
   "cell_type": "code",
   "execution_count": 102,
   "id": "e521fc98",
   "metadata": {},
   "outputs": [],
   "source": [
    "def find_start_position(solution, direction, nrow, ncol):\n",
    "# Find where to start for a given row or column considering black boxes\n",
    "# Represent black box as np.nan\n",
    "\n",
    "    if direction=='across':\n",
    "        while solution[nrow, ncol] is not None:\n",
    "            ncol += 1\n",
    "            \n",
    "    elif direction=='down':\n",
    "        while solution[nrow, ncol] is not None:\n",
    "            nrow +=1\n",
    "            \n",
    "    return (nrow, ncol)"
   ]
  },
  {
   "cell_type": "code",
   "execution_count": 103,
   "id": "2989a470",
   "metadata": {},
   "outputs": [
    {
     "ename": "SyntaxError",
     "evalue": "invalid syntax (835685280.py, line 6)",
     "output_type": "error",
     "traceback": [
      "\u001b[0;36m  File \u001b[0;32m\"/var/folders/qr/plqjz4g10016t6d7xs0p72sh0000gp/T/ipykernel_12676/835685280.py\"\u001b[0;36m, line \u001b[0;32m6\u001b[0m\n\u001b[0;31m    while solution[r, c+i]\u001b[0m\n\u001b[0m                          ^\u001b[0m\n\u001b[0;31mSyntaxError\u001b[0m\u001b[0;31m:\u001b[0m invalid syntax\n"
     ]
    }
   ],
   "source": [
    "def fill_word(solution, r, c, word, direction):\n",
    "    size = len(word)\n",
    "    \n",
    "    start = 0\n",
    "    if direction=='across':\n",
    "        while solution[r, c+i]\n",
    "    \n",
    "    for i, ch in enumerate(list(word)):\n",
    "        if direction == 'across':\n",
    "            if solution[r, c+1] != np.nan:\n",
    "                solution[r, c+i] = ch\n",
    "            else:\n",
    "                \n",
    "        elif direction == 'down':\n",
    "            solution[r+i, c] = ch\n",
    "        else:\n",
    "            return ValueError('must be across or down')\n",
    "        \n",
    "    \n",
    "    return solution"
   ]
  },
  {
   "cell_type": "code",
   "execution_count": 104,
   "id": "f985ea2c",
   "metadata": {},
   "outputs": [],
   "source": [
    "starting_cols = [find_start_position(solution, 'across', i, 0) for i in range(5)]"
   ]
  },
  {
   "cell_type": "code",
   "execution_count": 105,
   "id": "f2a7aca7",
   "metadata": {},
   "outputs": [
    {
     "data": {
      "text/plain": [
       "[(0, 0), (1, 0), (2, 0), (3, 1), (4, 1)]"
      ]
     },
     "execution_count": 105,
     "metadata": {},
     "output_type": "execute_result"
    }
   ],
   "source": [
    "starting_cols"
   ]
  },
  {
   "cell_type": "code",
   "execution_count": 106,
   "id": "ef527129",
   "metadata": {},
   "outputs": [],
   "source": [
    "solution = fill_word(solution, 0, 0, 'WET', 'across')"
   ]
  },
  {
   "cell_type": "code",
   "execution_count": 107,
   "id": "dace436a",
   "metadata": {},
   "outputs": [
    {
     "data": {
      "text/plain": [
       "array([['W', 'E', 'T', None, nan],\n",
       "       [None, None, None, None, nan],\n",
       "       [None, None, None, None, None],\n",
       "       [nan, None, None, None, None],\n",
       "       [nan, None, None, None, None]], dtype=object)"
      ]
     },
     "execution_count": 107,
     "metadata": {},
     "output_type": "execute_result"
    }
   ],
   "source": [
    "solution"
   ]
  },
  {
   "cell_type": "code",
   "execution_count": 108,
   "id": "6db3bef0",
   "metadata": {},
   "outputs": [],
   "source": [
    "row_lengths = [4, 4, 5, 4, 4]"
   ]
  },
  {
   "cell_type": "code",
   "execution_count": null,
   "id": "bdd128f6",
   "metadata": {},
   "outputs": [],
   "source": []
  }
 ],
 "metadata": {
  "kernelspec": {
   "display_name": "Python 3 (ipykernel)",
   "language": "python",
   "name": "python3"
  },
  "language_info": {
   "codemirror_mode": {
    "name": "ipython",
    "version": 3
   },
   "file_extension": ".py",
   "mimetype": "text/x-python",
   "name": "python",
   "nbconvert_exporter": "python",
   "pygments_lexer": "ipython3",
   "version": "3.9.7"
  }
 },
 "nbformat": 4,
 "nbformat_minor": 5
}
