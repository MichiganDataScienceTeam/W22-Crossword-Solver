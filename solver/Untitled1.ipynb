{
 "cells": [
  {
   "cell_type": "code",
   "execution_count": null,
   "id": "d3607845",
   "metadata": {},
   "outputs": [],
   "source": [
    "import puz\n",
    "import numpy as np"
   ]
  },
  {
   "cell_type": "code",
   "execution_count": null,
   "id": "91403065",
   "metadata": {},
   "outputs": [],
   "source": [
    "%run fillblanks.py './minis/010222.puz'"
   ]
  },
  {
   "cell_type": "code",
   "execution_count": 4,
   "id": "6456cd4a",
   "metadata": {},
   "outputs": [],
   "source": [
    "unaryR1 = {0: 3, 1: 5, 2: 5, 3: 5, 4: 3, 5: 4, 6: 4, 7: 5, 8: 4, 9: 4}"
   ]
  },
  {
   "cell_type": "code",
   "execution_count": 5,
   "id": "76a04660",
   "metadata": {},
   "outputs": [],
   "source": [
    "binaryR2 = {0: {5: (0, 0), 6: (1, 0), 7: (2, 0)}, 1: {5: (0, 1), 6: (1, 1), 7: (2, 1), 8: (3, 0), 9: (4, 0)}, 2: {5: (0, 2), 6: (1, 2), 7: (2, 2), 8: (3, 1), 9: (4, 1)}, 3: {5: (0, 3), 6: (1, 3), 7: (2, 3), 8: (3, 2), 9: (4, 2)}, 4: {7: (0, 4), 8: (1, 3), 9: (2, 3)}, 5: {0: (0, 0), 1: (1, 0), 2: (2, 0), 3: (3, 0)}, 6: {0: (0, 1), 1: (1, 1), 2: (2, 1), 3: (3, 1)}, 7: {0: (0, 2), 1: (1, 2), 2: (2, 2), 3: (3, 2), 4: (4, 0)}, 8: {1: (0, 3), 2: (1, 3), 3: (2, 3), 4: (3, 1)}, 9: {1: (0, 4), 2: (1, 4), 3: (2, 4), 4: (3, 2)}}"
   ]
  },
  {
   "cell_type": "code",
   "execution_count": 3,
   "id": "ba0232dd",
   "metadata": {},
   "outputs": [],
   "source": [
    "words = {4: ['BOSS', 'READ', 'BOWL', 'REED', 'BREW', 'ROSE', 'LANE', 'ODDS', 'GENZ', 'ATOZ', 'BITE', 'CRUX', 'QUOI', 'ISNT', 'CLUB', 'ONTO', 'CHAT', 'REDO'], \n",
    "         5: ['OTTER', 'WHALE', 'LETME', 'OTHER', 'STATE', 'SELMA', 'JOUST', 'BROAD', 'ROUND', 'ESSES', 'SALAD', 'AGITA', 'GROOM', 'SAGGY', 'AGREE', 'LIONS', 'CATCH', 'IRAQI', 'TUTUS', 'EXCON', 'TUSKS', 'ONTOP', 'ADORE', 'SEVEN', 'TREAT', 'TOAST', 'UNDER', 'STOVE', 'KOREA', 'SPENT', 'SQUID', 'PURSE', 'LOGAN', 'ATEIN', 'TEDDY', 'SPLAT', 'QUOTE', 'URGED', 'ISAID', 'DENNY', 'SUNUP', 'ONION', 'SLOMO', 'PREEN', 'HATER', 'AZURE', 'TIRED', 'LAZIO', 'UTURN', 'BERET', 'SAYSO', 'WIPER', 'SAGES'], \n",
    "         3: ['WET', 'JLO', 'YES', 'DAM', 'BCC', 'HIT', 'HIT', 'GAP', 'AGE', 'AND', 'ERE', 'ESE', 'LET', 'EDT', 'RYE'], \n",
    "         7: ['ALGEBRA', 'GOGREEN', 'EMITTED', 'HUGGING', 'INERTIA', 'TUBETOP', 'WISEASS', 'ICEDTEA', 'PANTLEG', 'RUGRATS', 'SENEGAL', 'ATLEAST'], \n",
    "         6: ['ICARUS', 'SEESTO']}"
   ]
  },
  {
   "cell_type": "code",
   "execution_count": 7,
   "id": "f7342104",
   "metadata": {},
   "outputs": [],
   "source": [
    "from collections import deque"
   ]
  },
  {
   "cell_type": "code",
   "execution_count": 14,
   "id": "6ac09f7f",
   "metadata": {},
   "outputs": [],
   "source": [
    "worklist = deque()\n",
    "for b in binaryR2:\n",
    "    worklist.append((b, binaryR2[b]))"
   ]
  },
  {
   "cell_type": "code",
   "execution_count": 15,
   "id": "796b90e4",
   "metadata": {},
   "outputs": [
    {
     "data": {
      "text/plain": [
       "deque([(0, {5: (0, 0), 6: (1, 0), 7: (2, 0)}),\n",
       "       (1, {5: (0, 1), 6: (1, 1), 7: (2, 1), 8: (3, 0), 9: (4, 0)}),\n",
       "       (2, {5: (0, 2), 6: (1, 2), 7: (2, 2), 8: (3, 1), 9: (4, 1)}),\n",
       "       (3, {5: (0, 3), 6: (1, 3), 7: (2, 3), 8: (3, 2), 9: (4, 2)}),\n",
       "       (4, {7: (0, 4), 8: (1, 3), 9: (2, 3)}),\n",
       "       (5, {0: (0, 0), 1: (1, 0), 2: (2, 0), 3: (3, 0)}),\n",
       "       (6, {0: (0, 1), 1: (1, 1), 2: (2, 1), 3: (3, 1)}),\n",
       "       (7, {0: (0, 2), 1: (1, 2), 2: (2, 2), 3: (3, 2), 4: (4, 0)}),\n",
       "       (8, {1: (0, 3), 2: (1, 3), 3: (2, 3), 4: (3, 1)}),\n",
       "       (9, {1: (0, 4), 2: (1, 4), 3: (2, 4), 4: (3, 2)})])"
      ]
     },
     "execution_count": 15,
     "metadata": {},
     "output_type": "execute_result"
    }
   ],
   "source": [
    "worklist"
   ]
  },
  {
   "cell_type": "code",
   "execution_count": null,
   "id": "dc4aab23",
   "metadata": {},
   "outputs": [],
   "source": [
    "while worklist:\n",
    "    current = worklist.pop()\n",
    "    "
   ]
  },
  {
   "cell_type": "code",
   "execution_count": null,
   "id": "dfb4bbd4",
   "metadata": {},
   "outputs": [],
   "source": [
    "def arc_reduce(x, y):\n",
    "    change = False\n",
    "    \n",
    "     for each vx in D(x)\n",
    "         find a value vy in D(y) such that vx and vy satisfy the constraint R2(x, y)\n",
    "         if there is no such vy {\n",
    "             D(x) := D(x) - vx\n",
    "             change := true\n",
    "         }\n",
    "     return change"
   ]
  }
 ],
 "metadata": {
  "kernelspec": {
   "display_name": "Python 3 (ipykernel)",
   "language": "python",
   "name": "python3"
  },
  "language_info": {
   "codemirror_mode": {
    "name": "ipython",
    "version": 3
   },
   "file_extension": ".py",
   "mimetype": "text/x-python",
   "name": "python",
   "nbconvert_exporter": "python",
   "pygments_lexer": "ipython3",
   "version": "3.9.7"
  }
 },
 "nbformat": 4,
 "nbformat_minor": 5
}
