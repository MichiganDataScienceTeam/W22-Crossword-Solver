{
 "cells": [
  {
   "cell_type": "code",
   "execution_count": 109,
   "id": "d7b3d77d",
   "metadata": {},
   "outputs": [],
   "source": [
    "import puz\n",
    "import numpy as np"
   ]
  },
  {
   "cell_type": "code",
   "execution_count": 112,
   "id": "f3eb0db4",
   "metadata": {},
   "outputs": [
    {
     "name": "stdout",
     "output_type": "stream",
     "text": [
      "BITE.CRUX.CATCH.QUOI.ISNT\n",
      "({0: 3, 1: 5, 2: 5, 3: 5, 4: 3, 5: 4, 6: 4, 7: 5, 8: 4, 9: 4}, defaultdict(<class 'dict'>, {0: {5: (0, 0), 6: (1, 0), 7: (2, 0)}, 1: {5: (0, 1), 6: (1, 1), 7: (2, 1), 8: (3, 0), 9: (4, 0)}, 2: {5: (0, 2), 6: (1, 2), 7: (2, 2), 8: (3, 1), 9: (4, 1)}, 3: {5: (0, 3), 6: (1, 3), 7: (2, 3), 8: (3, 2), 9: (4, 2)}, 4: {7: (0, 4), 8: (1, 3), 9: (2, 3)}, 5: {0: (0, 0), 1: (1, 0), 2: (2, 0), 3: (3, 0)}, 6: {0: (0, 1), 1: (1, 1), 2: (2, 1), 3: (3, 1)}, 7: {0: (0, 2), 1: (1, 2), 2: (2, 2), 3: (3, 2), 4: (4, 0)}, 8: {1: (0, 3), 2: (1, 3), 3: (2, 3), 4: (3, 1)}, 9: {1: (0, 4), 2: (1, 4), 3: (2, 4), 4: (3, 2)}}), {0: {'clue': {'num': 1, 'clue': 'Secretly include on an email', 'cell': 0, 'len': 3}, 'clue_ind': 0, 'across': False}, 1: {'clue': {'num': 2, 'clue': 'Baghdad resident', 'cell': 1, 'len': 5}, 'clue_ind': 1, 'across': False}, 2: {'clue': {'num': 3, 'clue': 'Garments suggested by the number 22?', 'cell': 2, 'len': 5}, 'clue_ind': 2, 'across': False}, 3: {'clue': {'num': 4, 'clue': 'Former prisoner', 'cell': 3, 'len': 5}, 'clue_ind': 3, 'across': False}, 4: {'clue': {'num': 7, 'clue': 'Google result', 'cell': 14, 'len': 3}, 'clue_ind': 4, 'across': False}, 5: {'clue': {'num': 1, 'clue': 'Take the bait', 'cell': 0, 'len': 4}, 'clue_ind': 5, 'across': True}, 6: {'clue': {'num': 5, 'clue': 'Central point', 'cell': 5, 'len': 4}, 'clue_ind': 6, 'across': True}, 7: {'clue': {'num': 6, 'clue': '\"___-22\"', 'cell': 10, 'len': 5}, 'clue_ind': 7, 'across': True}, 8: {'clue': {'num': 8, 'clue': 'What, in French', 'cell': 16, 'len': 4}, 'clue_ind': 8, 'across': True}, 9: {'clue': {'num': 9, 'clue': 'No longer exists', 'cell': 21, 'len': 4}, 'clue_ind': 9, 'across': True}})\n",
      "defaultdict(<class 'list'>, {4: ['BOSS', 'READ', 'BOWL', 'REED', 'BREW', 'ROSE', 'LANE', 'ODDS', 'GENZ', 'ATOZ', 'BITE', 'CRUX', 'QUOI', 'ISNT', 'CLUB', 'ONTO', 'CHAT', 'REDO'], 5: ['OTTER', 'WHALE', 'LETME', 'OTHER', 'STATE', 'SELMA', 'JOUST', 'BROAD', 'ROUND', 'ESSES', 'SALAD', 'AGITA', 'GROOM', 'SAGGY', 'AGREE', 'LIONS', 'CATCH', 'IRAQI', 'TUTUS', 'EXCON', 'TUSKS', 'ONTOP', 'ADORE', 'SEVEN', 'TREAT', 'TOAST', 'UNDER', 'STOVE', 'KOREA', 'SPENT', 'SQUID', 'PURSE', 'LOGAN', 'ATEIN', 'TEDDY', 'SPLAT', 'QUOTE', 'URGED', 'ISAID', 'DENNY', 'SUNUP', 'ONION', 'SLOMO', 'PREEN', 'HATER', 'AZURE', 'TIRED', 'LAZIO', 'UTURN', 'BERET', 'SAYSO', 'WIPER', 'SAGES'], 3: ['WET', 'JLO', 'YES', 'DAM', 'BCC', 'HIT', 'HIT', 'GAP', 'AGE', 'AND', 'ERE', 'ESE', 'LET', 'EDT', 'RYE'], 7: ['ALGEBRA', 'GOGREEN', 'EMITTED', 'HUGGING', 'INERTIA', 'TUBETOP', 'WISEASS', 'ICEDTEA', 'PANTLEG', 'RUGRATS', 'SENEGAL', 'ATLEAST'], 6: ['ICARUS', 'SEESTO']})\n"
     ]
    }
   ],
   "source": [
    "%run fillblanks.py './minis/010222.puz'"
   ]
  },
  {
   "cell_type": "code",
   "execution_count": 12,
   "id": "9b314f23",
   "metadata": {},
   "outputs": [],
   "source": [
    "unary = {0: 3, 1: 5, 2: 5, 3: 5, 4: 3, 5: 4, 6: 4, 7: 5, 8: 4, 9: 4}"
   ]
  },
  {
   "cell_type": "code",
   "execution_count": 111,
   "id": "ad02fc79",
   "metadata": {},
   "outputs": [],
   "source": [
    "binary = {0: {5: (0, 0), 6: (1, 0), 7: (2, 0)}, 1: {5: (0, 1), 6: (1, 1), 7: (2, 1), 8: (3, 0), 9: (4, 0)}, 2: {5: (0, 2), 6: (1, 2), 7: (2, 2), 8: (3, 1), 9: (4, 1)}, 3: {5: (0, 3), 6: (1, 3), 7: (2, 3), 8: (3, 2), 9: (4, 2)}, 4: {7: (0, 4), 8: (1, 3), 9: (2, 3)}, 5: {0: (0, 0), 1: (1, 0), 2: (2, 0), 3: (3, 0)}, 6: {0: (0, 1), 1: (1, 1), 2: (2, 1), 3: (3, 1)}, 7: {0: (0, 2), 1: (1, 2), 2: (2, 2), 3: (3, 2), 4: (4, 0)}, 8: {1: (0, 3), 2: (1, 3), 3: (2, 3), 4: (3, 1)}, 9: {1: (0, 4), 2: (1, 4), 3: (2, 4), 4: (3, 2)}}"
   ]
  },
  {
   "cell_type": "code",
   "execution_count": 113,
   "id": "fa6c83ed",
   "metadata": {},
   "outputs": [],
   "source": [
    "words = {4: ['BOSS', 'READ', 'BOWL', 'REED', 'BREW', 'ROSE', 'LANE', 'ODDS', 'GENZ', 'ATOZ', 'BITE', 'CRUX', 'QUOI', 'ISNT', 'CLUB', 'ONTO', 'CHAT', 'REDO'], 5: ['OTTER', 'WHALE', 'LETME', 'OTHER', 'STATE', 'SELMA', 'JOUST', 'BROAD', 'ROUND', 'ESSES', 'SALAD', 'AGITA', 'GROOM', 'SAGGY', 'AGREE', 'LIONS', 'CATCH', 'IRAQI', 'TUTUS', 'EXCON', 'TUSKS', 'ONTOP', 'ADORE', 'SEVEN', 'TREAT', 'TOAST', 'UNDER', 'STOVE', 'KOREA', 'SPENT', 'SQUID', 'PURSE', 'LOGAN', 'ATEIN', 'TEDDY', 'SPLAT', 'QUOTE', 'URGED', 'ISAID', 'DENNY', 'SUNUP', 'ONION', 'SLOMO', 'PREEN', 'HATER', 'AZURE', 'TIRED', 'LAZIO', 'UTURN', 'BERET', 'SAYSO', 'WIPER', 'SAGES'], 3: ['WET', 'JLO', 'YES', 'DAM', 'BCC', 'HIT', 'HIT', 'GAP', 'AGE', 'AND', 'ERE', 'ESE', 'LET', 'EDT', 'RYE'], 7: ['ALGEBRA', 'GOGREEN', 'EMITTED', 'HUGGING', 'INERTIA', 'TUBETOP', 'WISEASS', 'ICEDTEA', 'PANTLEG', 'RUGRATS', 'SENEGAL', 'ATLEAST'], 6: ['ICARUS', 'SEESTO']}"
   ]
  },
  {
   "cell_type": "code",
   "execution_count": 73,
   "id": "964ccfca",
   "metadata": {},
   "outputs": [],
   "source": [
    "fill = '----.----.-----.----.----'"
   ]
  },
  {
   "cell_type": "code",
   "execution_count": 65,
   "id": "1133f33e",
   "metadata": {},
   "outputs": [],
   "source": [
    "sorted_words = {k: sorted(w) for k, w in words.items()}"
   ]
  },
  {
   "cell_type": "code",
   "execution_count": 74,
   "id": "ba61aa2c",
   "metadata": {},
   "outputs": [],
   "source": [
    "solution = np.full((5, 5), None)"
   ]
  },
  {
   "cell_type": "code",
   "execution_count": 75,
   "id": "7e4600cf",
   "metadata": {},
   "outputs": [
    {
     "data": {
      "text/plain": [
       "array([[None, None, None, None, None],\n",
       "       [None, None, None, None, None],\n",
       "       [None, None, None, None, None],\n",
       "       [None, None, None, None, None],\n",
       "       [None, None, None, None, None]], dtype=object)"
      ]
     },
     "execution_count": 75,
     "metadata": {},
     "output_type": "execute_result"
    }
   ],
   "source": [
    "solution"
   ]
  },
  {
   "cell_type": "code",
   "execution_count": 93,
   "id": "03b07f5f",
   "metadata": {},
   "outputs": [],
   "source": [
    "for i, ch in enumerate(fill):\n",
    "    if ch=='.':\n",
    "        r, c = i//5, i%5\n",
    "        solution[r, c] = np.nan"
   ]
  },
  {
   "cell_type": "code",
   "execution_count": 94,
   "id": "b9710d83",
   "metadata": {},
   "outputs": [
    {
     "data": {
      "text/plain": [
       "array([[None, None, None, None, nan],\n",
       "       [None, None, None, None, nan],\n",
       "       [None, None, None, None, None],\n",
       "       [nan, None, None, None, None],\n",
       "       [nan, None, None, None, None]], dtype=object)"
      ]
     },
     "execution_count": 94,
     "metadata": {},
     "output_type": "execute_result"
    }
   ],
   "source": [
    "solution"
   ]
  },
  {
   "cell_type": "code",
   "execution_count": 102,
   "id": "5f1b7ccc",
   "metadata": {},
   "outputs": [],
   "source": [
    "def find_start_position(solution, direction, nrow, ncol):\n",
    "# Find where to start for a given row or column considering black boxes\n",
    "# Represent black box as np.nan\n",
    "\n",
    "    if direction=='across':\n",
    "        while solution[nrow, ncol] is not None:\n",
    "            ncol += 1\n",
    "            \n",
    "    elif direction=='down':\n",
    "        while solution[nrow, ncol] is not None:\n",
    "            nrow +=1\n",
    "            \n",
    "    return (nrow, ncol)"
   ]
  },
  {
   "cell_type": "code",
   "execution_count": 103,
   "id": "41d7e4da",
   "metadata": {},
   "outputs": [
    {
     "ename": "SyntaxError",
     "evalue": "invalid syntax (835685280.py, line 6)",
     "output_type": "error",
     "traceback": [
      "\u001b[0;36m  File \u001b[0;32m\"/var/folders/qr/plqjz4g10016t6d7xs0p72sh0000gp/T/ipykernel_12676/835685280.py\"\u001b[0;36m, line \u001b[0;32m6\u001b[0m\n\u001b[0;31m    while solution[r, c+i]\u001b[0m\n\u001b[0m                          ^\u001b[0m\n\u001b[0;31mSyntaxError\u001b[0m\u001b[0;31m:\u001b[0m invalid syntax\n"
     ]
    }
   ],
   "source": [
    "def fill_word(solution, r, c, word, direction):\n",
    "    size = len(word)\n",
    "    \n",
    "    start = 0\n",
    "    if direction=='across':\n",
    "        while solution[r, c+i]\n",
    "    \n",
    "    for i, ch in enumerate(list(word)):\n",
    "        if direction == 'across':\n",
    "            if solution[r, c+1] != np.nan:\n",
    "                solution[r, c+i] = ch\n",
    "            else:\n",
    "                \n",
    "        elif direction == 'down':\n",
    "            solution[r+i, c] = ch\n",
    "        else:\n",
    "            return ValueError('must be across or down')\n",
    "        \n",
    "    \n",
    "    return solution"
   ]
  },
  {
   "cell_type": "code",
   "execution_count": 104,
   "id": "666505fb",
   "metadata": {},
   "outputs": [],
   "source": [
    "starting_cols = [find_start_position(solution, 'across', i, 0) for i in range(5)]"
   ]
  },
  {
   "cell_type": "code",
   "execution_count": 105,
   "id": "c42542b2",
   "metadata": {},
   "outputs": [
    {
     "data": {
      "text/plain": [
       "[(0, 0), (1, 0), (2, 0), (3, 1), (4, 1)]"
      ]
     },
     "execution_count": 105,
     "metadata": {},
     "output_type": "execute_result"
    }
   ],
   "source": [
    "starting_cols"
   ]
  },
  {
   "cell_type": "code",
   "execution_count": 106,
   "id": "8c524dcf",
   "metadata": {},
   "outputs": [],
   "source": [
    "solution = fill_word(solution, 0, 0, 'WET', 'across')"
   ]
  },
  {
   "cell_type": "code",
   "execution_count": 107,
   "id": "1f0ef7c1",
   "metadata": {},
   "outputs": [
    {
     "data": {
      "text/plain": [
       "array([['W', 'E', 'T', None, nan],\n",
       "       [None, None, None, None, nan],\n",
       "       [None, None, None, None, None],\n",
       "       [nan, None, None, None, None],\n",
       "       [nan, None, None, None, None]], dtype=object)"
      ]
     },
     "execution_count": 107,
     "metadata": {},
     "output_type": "execute_result"
    }
   ],
   "source": [
    "solution"
   ]
  },
  {
   "cell_type": "code",
   "execution_count": 108,
   "id": "3f751790",
   "metadata": {},
   "outputs": [],
   "source": [
    "row_lengths = [4, 4, 5, 4, 4]"
   ]
  },
  {
   "cell_type": "code",
   "execution_count": null,
   "id": "52cf86b7",
   "metadata": {},
   "outputs": [],
   "source": []
  }
 ],
 "metadata": {
  "kernelspec": {
   "display_name": "Python 3 (ipykernel)",
   "language": "python",
   "name": "python3"
  },
  "language_info": {
   "codemirror_mode": {
    "name": "ipython",
    "version": 3
   },
   "file_extension": ".py",
   "mimetype": "text/x-python",
   "name": "python",
   "nbconvert_exporter": "python",
   "pygments_lexer": "ipython3",
   "version": "3.9.7"
  }
 },
 "nbformat": 4,
 "nbformat_minor": 5
}
